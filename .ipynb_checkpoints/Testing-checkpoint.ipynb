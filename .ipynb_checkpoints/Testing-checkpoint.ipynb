{
 "cells": [
  {
   "cell_type": "markdown",
   "id": "59ca82b5",
   "metadata": {},
   "source": [
    "# Imports"
   ]
  },
  {
   "cell_type": "code",
   "execution_count": 1,
   "id": "cec87ecc",
   "metadata": {},
   "outputs": [],
   "source": [
    "import pandas as pd\n",
    "import numpy as np"
   ]
  },
  {
   "cell_type": "code",
   "execution_count": 2,
   "id": "e8fd0405",
   "metadata": {},
   "outputs": [],
   "source": [
    "data_DB = pd.read_csv(\"Food_DB.csv\")"
   ]
  },
  {
   "cell_type": "code",
   "execution_count": 3,
   "id": "625f6db2",
   "metadata": {},
   "outputs": [
    {
     "data": {
      "text/html": [
       "<div>\n",
       "<style scoped>\n",
       "    .dataframe tbody tr th:only-of-type {\n",
       "        vertical-align: middle;\n",
       "    }\n",
       "\n",
       "    .dataframe tbody tr th {\n",
       "        vertical-align: top;\n",
       "    }\n",
       "\n",
       "    .dataframe thead th {\n",
       "        text-align: right;\n",
       "    }\n",
       "</style>\n",
       "<table border=\"1\" class=\"dataframe\">\n",
       "  <thead>\n",
       "    <tr style=\"text-align: right;\">\n",
       "      <th></th>\n",
       "      <th>Meal</th>\n",
       "      <th>Amount</th>\n",
       "      <th>Stars</th>\n",
       "      <th>Effort</th>\n",
       "      <th>Notes</th>\n",
       "    </tr>\n",
       "  </thead>\n",
       "  <tbody>\n",
       "    <tr>\n",
       "      <th>0</th>\n",
       "      <td>Makaronilåda</td>\n",
       "      <td>6</td>\n",
       "      <td>5</td>\n",
       "      <td>5</td>\n",
       "      <td>NaN</td>\n",
       "    </tr>\n",
       "    <tr>\n",
       "      <th>1</th>\n",
       "      <td>Lasagne</td>\n",
       "      <td>5</td>\n",
       "      <td>5</td>\n",
       "      <td>5</td>\n",
       "      <td>NaN</td>\n",
       "    </tr>\n",
       "    <tr>\n",
       "      <th>2</th>\n",
       "      <td>Pizza</td>\n",
       "      <td>4</td>\n",
       "      <td>5</td>\n",
       "      <td>5</td>\n",
       "      <td>NaN</td>\n",
       "    </tr>\n",
       "    <tr>\n",
       "      <th>3</th>\n",
       "      <td>Bacon ärt pasta</td>\n",
       "      <td>4</td>\n",
       "      <td>5</td>\n",
       "      <td>4</td>\n",
       "      <td>NaN</td>\n",
       "    </tr>\n",
       "    <tr>\n",
       "      <th>4</th>\n",
       "      <td>Hotdog</td>\n",
       "      <td>2</td>\n",
       "      <td>5</td>\n",
       "      <td>1</td>\n",
       "      <td>NaN</td>\n",
       "    </tr>\n",
       "  </tbody>\n",
       "</table>\n",
       "</div>"
      ],
      "text/plain": [
       "              Meal  Amount  Stars  Effort  Notes\n",
       "0     Makaronilåda       6      5       5    NaN\n",
       "1          Lasagne       5      5       5    NaN\n",
       "2            Pizza       4      5       5    NaN\n",
       "3  Bacon ärt pasta       4      5       4    NaN\n",
       "4           Hotdog       2      5       1    NaN"
      ]
     },
     "execution_count": 3,
     "metadata": {},
     "output_type": "execute_result"
    }
   ],
   "source": [
    "data_DB.head()"
   ]
  },
  {
   "cell_type": "markdown",
   "id": "c2ed9c96",
   "metadata": {},
   "source": [
    "# Main functions"
   ]
  },
  {
   "cell_type": "code",
   "execution_count": 117,
   "id": "267842c1",
   "metadata": {},
   "outputs": [],
   "source": [
    "# SETTINGS\n",
    "days_in_plan = 7\n",
    "starting_meal = 0\n",
    "current_pos = [starting_meal, 1]\n",
    "meals_left = 0\n",
    "current_meal = 0\n",
    "previous_meals = []\n",
    "single_lunch_days = [5]\n",
    "ready_lunch_days = [3,4]"
   ]
  },
  {
   "cell_type": "code",
   "execution_count": 118,
   "id": "24a06603",
   "metadata": {},
   "outputs": [],
   "source": [
    "# Create probability\n",
    "data_DB[\"Probability\"] = ((data_DB[\"Stars\"] / 5) * 0.75) + ((1 - 0.2 * (data_DB[\"Effort\"] - 1)) * 0.25)"
   ]
  },
  {
   "cell_type": "code",
   "execution_count": 119,
   "id": "d5900a0c",
   "metadata": {},
   "outputs": [],
   "source": [
    "# Create mealplan_DB\n",
    "mealplan_DB = pd.DataFrame()\n",
    "mealplan_DB[\"meal_of_day\"] = [\"lunch\", \"dinner\"]\n",
    "days_in_plan_range = range(0,days_in_plan)\n",
    "for i in days_in_plan_range:\n",
    "    mealplan_DB[i + 1] = 0"
   ]
  },
  {
   "cell_type": "code",
   "execution_count": 120,
   "id": "cbaaf925",
   "metadata": {},
   "outputs": [
    {
     "data": {
      "text/html": [
       "<div>\n",
       "<style scoped>\n",
       "    .dataframe tbody tr th:only-of-type {\n",
       "        vertical-align: middle;\n",
       "    }\n",
       "\n",
       "    .dataframe tbody tr th {\n",
       "        vertical-align: top;\n",
       "    }\n",
       "\n",
       "    .dataframe thead th {\n",
       "        text-align: right;\n",
       "    }\n",
       "</style>\n",
       "<table border=\"1\" class=\"dataframe\">\n",
       "  <thead>\n",
       "    <tr style=\"text-align: right;\">\n",
       "      <th></th>\n",
       "      <th>meal_of_day</th>\n",
       "      <th>1</th>\n",
       "      <th>2</th>\n",
       "      <th>3</th>\n",
       "      <th>4</th>\n",
       "      <th>5</th>\n",
       "      <th>6</th>\n",
       "      <th>7</th>\n",
       "    </tr>\n",
       "  </thead>\n",
       "  <tbody>\n",
       "    <tr>\n",
       "      <th>0</th>\n",
       "      <td>lunch</td>\n",
       "      <td>0</td>\n",
       "      <td>0</td>\n",
       "      <td>0</td>\n",
       "      <td>0</td>\n",
       "      <td>0</td>\n",
       "      <td>0</td>\n",
       "      <td>0</td>\n",
       "    </tr>\n",
       "    <tr>\n",
       "      <th>1</th>\n",
       "      <td>dinner</td>\n",
       "      <td>0</td>\n",
       "      <td>0</td>\n",
       "      <td>0</td>\n",
       "      <td>0</td>\n",
       "      <td>0</td>\n",
       "      <td>0</td>\n",
       "      <td>0</td>\n",
       "    </tr>\n",
       "  </tbody>\n",
       "</table>\n",
       "</div>"
      ],
      "text/plain": [
       "  meal_of_day  1  2  3  4  5  6  7\n",
       "0       lunch  0  0  0  0  0  0  0\n",
       "1      dinner  0  0  0  0  0  0  0"
      ]
     },
     "execution_count": 120,
     "metadata": {},
     "output_type": "execute_result"
    }
   ],
   "source": [
    "mealplan_DB.head()"
   ]
  },
  {
   "cell_type": "code",
   "execution_count": 121,
   "id": "9f3cc774",
   "metadata": {},
   "outputs": [],
   "source": [
    "def populate_meal(meal):\n",
    "    global meals_left\n",
    "    \n",
    "    print(current_pos)\n",
    "    print(current_meal)\n",
    "    print(meals_left)\n",
    "    print(previous_meals)\n",
    "    \n",
    "    if current_meal not in previous_meals:\n",
    "        previous_meals.append(current_meal)\n",
    "    \n",
    "    \n",
    "    if meals_left >= 2:\n",
    "            \n",
    "        \n",
    "        mealplan_DB.loc[current_pos[0], current_pos[1]] = meal\n",
    "        meals_left = meals_left - 2\n",
    "        shift_forward()\n",
    "    elif meals_left == 1:\n",
    "        old_meal = current_meal\n",
    "        get_next_meal()\n",
    "        mealplan_DB.loc[current_pos[0], current_pos[1]] = f\"{old_meal} & {current_meal}\"\n",
    "        meals_left = meals_left - 2\n",
    "        shift_forward()\n",
    "    elif meals_left <= 0:\n",
    "        get_next_meal()"
   ]
  },
  {
   "cell_type": "code",
   "execution_count": 155,
   "id": "2fd299ee",
   "metadata": {},
   "outputs": [],
   "source": [
    "def shift_forward():\n",
    "    # If lunch switch to dinner\n",
    "    if current_pos[0] == 0:\n",
    "        current_pos[0] = 1\n",
    "    # If dinner switch to lunch and move day forward\n",
    "    else:\n",
    "        current_pos[0] = 0\n",
    "        current_pos[1] = current_pos[1] + 1\n",
    "\n",
    "def get_next_meal():\n",
    "    global current_meal\n",
    "    unique_meal = False\n",
    "    while unique_meal == False:\n",
    "        if current_meal not in previous_meals or not previous_meals:\n",
    "            unique_meal = True\n",
    "        else:\n",
    "            current_meal = get_random_meal()        \n",
    "\n",
    "def get_random_meal():\n",
    "    global meals_left\n",
    "    new_meal = data_DB.sample()\n",
    "    meal_name = new_meal[\"Meal\"].iloc[0]\n",
    "    meals_left = meals_left + new_meal[\"Amount\"].iloc[0]\n",
    "    return meal_name"
   ]
  },
  {
   "cell_type": "code",
   "execution_count": 161,
   "id": "65c75bdc",
   "metadata": {
    "scrolled": true
   },
   "outputs": [
    {
     "name": "stdout",
     "output_type": "stream",
     "text": [
      "[1, 7]\n",
      "Zucchini pasta\n",
      "2\n",
      "[0, 'Pizza', 'Fiskpinnar', 'Hönspesto pasta', 'Nuggies & Fries', 'Tortilla', 'Zucchini pasta']\n"
     ]
    },
    {
     "data": {
      "text/html": [
       "<div>\n",
       "<style scoped>\n",
       "    .dataframe tbody tr th:only-of-type {\n",
       "        vertical-align: middle;\n",
       "    }\n",
       "\n",
       "    .dataframe tbody tr th {\n",
       "        vertical-align: top;\n",
       "    }\n",
       "\n",
       "    .dataframe thead th {\n",
       "        text-align: right;\n",
       "    }\n",
       "</style>\n",
       "<table border=\"1\" class=\"dataframe\">\n",
       "  <thead>\n",
       "    <tr style=\"text-align: right;\">\n",
       "      <th></th>\n",
       "      <th>meal_of_day</th>\n",
       "      <th>1</th>\n",
       "      <th>2</th>\n",
       "      <th>3</th>\n",
       "      <th>4</th>\n",
       "      <th>5</th>\n",
       "      <th>6</th>\n",
       "      <th>7</th>\n",
       "    </tr>\n",
       "  </thead>\n",
       "  <tbody>\n",
       "    <tr>\n",
       "      <th>0</th>\n",
       "      <td>lunch</td>\n",
       "      <td>Pizza</td>\n",
       "      <td>Fiskpinnar</td>\n",
       "      <td>Hönspesto pasta</td>\n",
       "      <td>Hönspesto pasta</td>\n",
       "      <td>Nuggies &amp; Fries</td>\n",
       "      <td>Tortilla</td>\n",
       "      <td>Zucchini pasta</td>\n",
       "    </tr>\n",
       "    <tr>\n",
       "      <th>1</th>\n",
       "      <td>dinner</td>\n",
       "      <td>Pizza</td>\n",
       "      <td>Hönspesto pasta</td>\n",
       "      <td>Hönspesto pasta</td>\n",
       "      <td>Nuggies &amp; Fries</td>\n",
       "      <td>Nuggies &amp; Fries &amp; Tortilla</td>\n",
       "      <td>Zucchini pasta</td>\n",
       "      <td>Zucchini pasta</td>\n",
       "    </tr>\n",
       "  </tbody>\n",
       "</table>\n",
       "</div>"
      ],
      "text/plain": [
       "  meal_of_day      1                2                3                4  \\\n",
       "0       lunch  Pizza       Fiskpinnar  Hönspesto pasta  Hönspesto pasta   \n",
       "1      dinner  Pizza  Hönspesto pasta  Hönspesto pasta  Nuggies & Fries   \n",
       "\n",
       "                            5               6               7  \n",
       "0             Nuggies & Fries        Tortilla  Zucchini pasta  \n",
       "1  Nuggies & Fries & Tortilla  Zucchini pasta  Zucchini pasta  "
      ]
     },
     "execution_count": 161,
     "metadata": {},
     "output_type": "execute_result"
    }
   ],
   "source": [
    "populate_meal(current_meal)\n",
    "mealplan_DB.head()"
   ]
  },
  {
   "cell_type": "code",
   "execution_count": 134,
   "id": "b4dfaec3",
   "metadata": {},
   "outputs": [],
   "source": [
    "def check_one_lunch():\n",
    "    # Checks if current position is a single lunch meal, TRUE if yes\n",
    "    if current_pos[0] == 0:\n",
    "        current_day = current_pos[1]\n",
    "        if current_day in single_lunch_days:\n",
    "            return True\n",
    "        else:\n",
    "            return False\n",
    "    else:\n",
    "        return False\n",
    "        \n",
    "def check_ready_lunch_needed():\n",
    "    # Checks if NEXT lunch needs to be made during dinner on previous day, TRUE if yes\n",
    "    if current_pos[0] == 1:\n",
    "        next_day = current_pos[1] + 1\n",
    "        if next_day in ready_lunch_days:\n",
    "            return True\n",
    "        else:\n",
    "            return False\n",
    "    else:\n",
    "        return False\n",
    "    \n",
    "def check_one_lunch_needed():\n",
    "    # Checks if NEXT lunch should only be one meal during previous dinner, TRUE if yes\n",
    "    if current_pos[0] == 1:\n",
    "        next_day = current_pos[1] + 1\n",
    "        if next_day in single_lunch_days:\n",
    "            return True\n",
    "        else:\n",
    "            return False\n",
    "    else:\n",
    "        return False"
   ]
  },
  {
   "cell_type": "code",
   "execution_count": 135,
   "id": "6ed0b832",
   "metadata": {},
   "outputs": [
    {
     "name": "stdout",
     "output_type": "stream",
     "text": [
      "False\n",
      "False\n",
      "True\n"
     ]
    }
   ],
   "source": [
    "print(check_one_lunch())\n",
    "print(check_ready_lunch_needed())\n",
    "print(check_one_lunch_needed())"
   ]
  },
  {
   "cell_type": "code",
   "execution_count": 150,
   "id": "f26f201f",
   "metadata": {},
   "outputs": [],
   "source": [
    "def ___get_next_meal(minimum_meals):\n",
    "    global current_meal\n",
    "    unique_meal = False\n",
    "    enough_meals = False\n",
    "    while unique_meal == False and enough_meals == False:\n",
    "        if current_meal not in previous_meals or not previous_meals and meals_left >= minimum_meals:\n",
    "            unique_meal = True\n",
    "            enough_meals = True\n",
    "        else:\n",
    "            current_meal = get_random_meal()        "
   ]
  },
  {
   "cell_type": "code",
   "execution_count": 145,
   "id": "e12957e9",
   "metadata": {},
   "outputs": [
    {
     "name": "stdout",
     "output_type": "stream",
     "text": [
      "Nuggies & Fries\n",
      "5\n",
      "None\n"
     ]
    }
   ],
   "source": [
    "print(current_meal)\n",
    "print(meals_left)\n",
    "print(get_next_meal(4))"
   ]
  },
  {
   "cell_type": "code",
   "execution_count": null,
   "id": "934c8a27",
   "metadata": {},
   "outputs": [],
   "source": []
  }
 ],
 "metadata": {
  "kernelspec": {
   "display_name": "Python 3 (ipykernel)",
   "language": "python",
   "name": "python3"
  },
  "language_info": {
   "codemirror_mode": {
    "name": "ipython",
    "version": 3
   },
   "file_extension": ".py",
   "mimetype": "text/x-python",
   "name": "python",
   "nbconvert_exporter": "python",
   "pygments_lexer": "ipython3",
   "version": "3.11.5"
  }
 },
 "nbformat": 4,
 "nbformat_minor": 5
}
