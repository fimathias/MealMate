{
 "cells": [
  {
   "cell_type": "markdown",
   "id": "59ca82b5",
   "metadata": {},
   "source": [
    "# Imports"
   ]
  },
  {
   "cell_type": "code",
   "execution_count": 271,
   "id": "cec87ecc",
   "metadata": {},
   "outputs": [],
   "source": [
    "import pandas as pd\n",
    "import numpy as np\n",
    "import random"
   ]
  },
  {
   "cell_type": "code",
   "execution_count": 3,
   "id": "e8fd0405",
   "metadata": {},
   "outputs": [],
   "source": [
    "data_DB = pd.read_csv(\"Food_DB.csv\")"
   ]
  },
  {
   "cell_type": "code",
   "execution_count": 8,
   "id": "930f3008",
   "metadata": {},
   "outputs": [],
   "source": [
    "# Subset of list\n",
    "data_dinner = data_DB[pd.isnull(data_DB[\"Lunch\"])]\n",
    "data_lunch = data_DB[data_DB[\"Lunch\"] == \"x\"]"
   ]
  },
  {
   "cell_type": "code",
   "execution_count": 9,
   "id": "625f6db2",
   "metadata": {},
   "outputs": [
    {
     "data": {
      "text/html": [
       "<div>\n",
       "<style scoped>\n",
       "    .dataframe tbody tr th:only-of-type {\n",
       "        vertical-align: middle;\n",
       "    }\n",
       "\n",
       "    .dataframe tbody tr th {\n",
       "        vertical-align: top;\n",
       "    }\n",
       "\n",
       "    .dataframe thead th {\n",
       "        text-align: right;\n",
       "    }\n",
       "</style>\n",
       "<table border=\"1\" class=\"dataframe\">\n",
       "  <thead>\n",
       "    <tr style=\"text-align: right;\">\n",
       "      <th></th>\n",
       "      <th>Meal</th>\n",
       "      <th>Amount</th>\n",
       "      <th>Stars (1-5)</th>\n",
       "      <th>Effort (1-5)</th>\n",
       "      <th>Lunch</th>\n",
       "      <th>Notes</th>\n",
       "    </tr>\n",
       "  </thead>\n",
       "  <tbody>\n",
       "    <tr>\n",
       "      <th>4</th>\n",
       "      <td>Hotdog</td>\n",
       "      <td>2</td>\n",
       "      <td>5</td>\n",
       "      <td>1</td>\n",
       "      <td>x</td>\n",
       "      <td>NaN</td>\n",
       "    </tr>\n",
       "    <tr>\n",
       "      <th>15</th>\n",
       "      <td>Nuggies &amp; Fries</td>\n",
       "      <td>2</td>\n",
       "      <td>4</td>\n",
       "      <td>1</td>\n",
       "      <td>x</td>\n",
       "      <td>NaN</td>\n",
       "    </tr>\n",
       "    <tr>\n",
       "      <th>16</th>\n",
       "      <td>Fish &amp; Chips</td>\n",
       "      <td>2</td>\n",
       "      <td>4</td>\n",
       "      <td>2</td>\n",
       "      <td>x</td>\n",
       "      <td>NaN</td>\n",
       "    </tr>\n",
       "    <tr>\n",
       "      <th>31</th>\n",
       "      <td>Nudlar</td>\n",
       "      <td>2</td>\n",
       "      <td>3</td>\n",
       "      <td>3</td>\n",
       "      <td>x</td>\n",
       "      <td>NaN</td>\n",
       "    </tr>\n",
       "    <tr>\n",
       "      <th>32</th>\n",
       "      <td>Plättar</td>\n",
       "      <td>2</td>\n",
       "      <td>5</td>\n",
       "      <td>3</td>\n",
       "      <td>x</td>\n",
       "      <td>NaN</td>\n",
       "    </tr>\n",
       "  </tbody>\n",
       "</table>\n",
       "</div>"
      ],
      "text/plain": [
       "               Meal  Amount  Stars (1-5)  Effort (1-5) Lunch  Notes\n",
       "4            Hotdog       2            5             1     x    NaN\n",
       "15  Nuggies & Fries       2            4             1     x    NaN\n",
       "16     Fish & Chips       2            4             2     x    NaN\n",
       "31           Nudlar       2            3             3     x    NaN\n",
       "32          Plättar       2            5             3     x    NaN"
      ]
     },
     "execution_count": 9,
     "metadata": {},
     "output_type": "execute_result"
    }
   ],
   "source": [
    "data_lunch.head()"
   ]
  },
  {
   "cell_type": "markdown",
   "id": "c2ed9c96",
   "metadata": {},
   "source": [
    "# Main functions"
   ]
  },
  {
   "cell_type": "code",
   "execution_count": 522,
   "id": "267842c1",
   "metadata": {},
   "outputs": [],
   "source": [
    "# SETTINGS\n",
    "days_in_plan = 7\n",
    "starting_meal = 1\n",
    "current_pos = [starting_meal, 1]\n",
    "meals_left = 0\n",
    "current_meal = [None]\n",
    "leftover_meal = None\n",
    "leftover_amount = 0\n",
    "chosen_meals = []\n",
    "single_lunch_days = [5]\n",
    "non_ready_lunch_days = [3,4]"
   ]
  },
  {
   "cell_type": "code",
   "execution_count": 514,
   "id": "24a06603",
   "metadata": {},
   "outputs": [],
   "source": [
    "# Create probability\n",
    "data_DB[\"Probability\"] = ((data_DB[\"Stars (1-5)\"] / 5) * 0.75) + ((1 - 0.2 * (data_DB[\"Effort (1-5)\"] - 1)) * 0.25)"
   ]
  },
  {
   "cell_type": "code",
   "execution_count": 515,
   "id": "d5900a0c",
   "metadata": {},
   "outputs": [],
   "source": [
    "# Create mealplan_DB\n",
    "mealplan_DB = pd.DataFrame()\n",
    "mealplan_DB[\"meal_of_day\"] = [\"lunch\", \"dinner\"]\n",
    "days_in_plan_range = range(0,days_in_plan)\n",
    "for i in days_in_plan_range:\n",
    "    mealplan_DB[i + 1] = 0"
   ]
  },
  {
   "cell_type": "code",
   "execution_count": 516,
   "id": "cbaaf925",
   "metadata": {},
   "outputs": [
    {
     "data": {
      "text/html": [
       "<div>\n",
       "<style scoped>\n",
       "    .dataframe tbody tr th:only-of-type {\n",
       "        vertical-align: middle;\n",
       "    }\n",
       "\n",
       "    .dataframe tbody tr th {\n",
       "        vertical-align: top;\n",
       "    }\n",
       "\n",
       "    .dataframe thead th {\n",
       "        text-align: right;\n",
       "    }\n",
       "</style>\n",
       "<table border=\"1\" class=\"dataframe\">\n",
       "  <thead>\n",
       "    <tr style=\"text-align: right;\">\n",
       "      <th></th>\n",
       "      <th>meal_of_day</th>\n",
       "      <th>1</th>\n",
       "      <th>2</th>\n",
       "      <th>3</th>\n",
       "      <th>4</th>\n",
       "      <th>5</th>\n",
       "      <th>6</th>\n",
       "      <th>7</th>\n",
       "    </tr>\n",
       "  </thead>\n",
       "  <tbody>\n",
       "    <tr>\n",
       "      <th>0</th>\n",
       "      <td>lunch</td>\n",
       "      <td>0</td>\n",
       "      <td>0</td>\n",
       "      <td>0</td>\n",
       "      <td>0</td>\n",
       "      <td>0</td>\n",
       "      <td>0</td>\n",
       "      <td>0</td>\n",
       "    </tr>\n",
       "    <tr>\n",
       "      <th>1</th>\n",
       "      <td>dinner</td>\n",
       "      <td>0</td>\n",
       "      <td>0</td>\n",
       "      <td>0</td>\n",
       "      <td>0</td>\n",
       "      <td>0</td>\n",
       "      <td>0</td>\n",
       "      <td>0</td>\n",
       "    </tr>\n",
       "  </tbody>\n",
       "</table>\n",
       "</div>"
      ],
      "text/plain": [
       "  meal_of_day  1  2  3  4  5  6  7\n",
       "0       lunch  0  0  0  0  0  0  0\n",
       "1      dinner  0  0  0  0  0  0  0"
      ]
     },
     "execution_count": 516,
     "metadata": {},
     "output_type": "execute_result"
    }
   ],
   "source": [
    "mealplan_DB.head()"
   ]
  },
  {
   "cell_type": "code",
   "execution_count": 517,
   "id": "156ad58d",
   "metadata": {},
   "outputs": [],
   "source": [
    "def pick_random_meal(meal_db, current_meal, chosen_meals=None, min_amount=0):\n",
    "    # Filter meals based on the amount criteria and exclude chosen meals\n",
    "    eligible_meals = meal_db[(meal_db['Amount'] >= min_amount) & (~meal_db['Meal'].isin(chosen_meals))]\n",
    "\n",
    "    if not eligible_meals.empty:\n",
    "        # Pick a random meal from eligible meals\n",
    "        random_row = eligible_meals.sample()\n",
    "        random_meal = random_row.iloc[0]\n",
    "\n",
    "        # Update the current meal variable\n",
    "        current_meal[0] = random_meal['Meal']\n",
    "\n",
    "        # Add the chosen meal to the list of chosen meals\n",
    "        chosen_meals.append(current_meal[0])\n",
    "\n",
    "        return random_meal\n",
    "    else:\n",
    "        return \"No eligible meals available.\""
   ]
  },
  {
   "cell_type": "code",
   "execution_count": 512,
   "id": "27a042c2",
   "metadata": {},
   "outputs": [
    {
     "data": {
      "text/plain": [
       "'No eligible meals available.'"
      ]
     },
     "execution_count": 512,
     "metadata": {},
     "output_type": "execute_result"
    }
   ],
   "source": [
    "pick_random_meal(data_dinner, current_meal, chosen_meals, min_amount=4)"
   ]
  },
  {
   "cell_type": "code",
   "execution_count": 519,
   "id": "a9803834",
   "metadata": {},
   "outputs": [],
   "source": [
    "def generate_meal_plan(num_days, data_dinner, data_lunch, single_lunch_days, non_ready_lunch_days):\n",
    "    # Initialize the meal plan matrix\n",
    "    meal_plan = np.zeros((2, num_days), dtype=int)\n",
    "\n",
    "    # Loop through each day\n",
    "    for day in range(num_days):\n",
    "        # Dinner\n",
    "        dinner_choice = pick_random_meal(data_dinner, meal_plan[1, day], chosen_meals=None)\n",
    "        meal_plan[1, day] = dinner_choice\n",
    "\n",
    "        # Lunch\n",
    "        lunch_choice = 0  # Default: Ready-made leftovers\n",
    "\n",
    "        if day + 1 in single_lunch_days:\n",
    "            # Single-person lunch day\n",
    "            lunch_choice = pick_random_meal(data_lunch, meal_plan[0, day], chosen_meals=None)\n",
    "\n",
    "        elif day + 1 in non_ready_lunch_days:\n",
    "            # Non-ready-made lunch day\n",
    "            lunch_choice = pick_random_meal(data_lunch, meal_plan[0, day], chosen_meals=None, min_amount=1)\n",
    "\n",
    "        meal_plan[0, day] = lunch_choice\n",
    "\n",
    "    return meal_plan"
   ]
  },
  {
   "cell_type": "code",
   "execution_count": 523,
   "id": "24e9aeee",
   "metadata": {},
   "outputs": [
    {
     "ename": "TypeError",
     "evalue": "only list-like objects are allowed to be passed to isin(), you passed a [NoneType]",
     "output_type": "error",
     "traceback": [
      "\u001b[1;31m---------------------------------------------------------------------------\u001b[0m",
      "\u001b[1;31mTypeError\u001b[0m                                 Traceback (most recent call last)",
      "Cell \u001b[1;32mIn[523], line 6\u001b[0m\n\u001b[0;32m      3\u001b[0m single_lunch_days \u001b[38;5;241m=\u001b[39m []\n\u001b[0;32m      4\u001b[0m ready_lunch_days \u001b[38;5;241m=\u001b[39m [\u001b[38;5;241m3\u001b[39m,\u001b[38;5;241m4\u001b[39m,\u001b[38;5;241m5\u001b[39m,\u001b[38;5;241m6\u001b[39m,\u001b[38;5;241m7\u001b[39m]\n\u001b[1;32m----> 6\u001b[0m meal_plan_result \u001b[38;5;241m=\u001b[39m generate_meal_plan(num_days, data_dinner, data_lunch, single_lunch_days, non_ready_lunch_days)\n\u001b[0;32m      7\u001b[0m \u001b[38;5;28mprint\u001b[39m(meal_plan_result)\n",
      "Cell \u001b[1;32mIn[519], line 8\u001b[0m, in \u001b[0;36mgenerate_meal_plan\u001b[1;34m(num_days, data_dinner, data_lunch, single_lunch_days, non_ready_lunch_days)\u001b[0m\n\u001b[0;32m      5\u001b[0m \u001b[38;5;66;03m# Loop through each day\u001b[39;00m\n\u001b[0;32m      6\u001b[0m \u001b[38;5;28;01mfor\u001b[39;00m day \u001b[38;5;129;01min\u001b[39;00m \u001b[38;5;28mrange\u001b[39m(num_days):\n\u001b[0;32m      7\u001b[0m     \u001b[38;5;66;03m# Dinner\u001b[39;00m\n\u001b[1;32m----> 8\u001b[0m     dinner_choice \u001b[38;5;241m=\u001b[39m pick_random_meal(data_dinner, meal_plan[\u001b[38;5;241m1\u001b[39m, day], chosen_meals\u001b[38;5;241m=\u001b[39m\u001b[38;5;28;01mNone\u001b[39;00m)\n\u001b[0;32m      9\u001b[0m     meal_plan[\u001b[38;5;241m1\u001b[39m, day] \u001b[38;5;241m=\u001b[39m dinner_choice\n\u001b[0;32m     11\u001b[0m     \u001b[38;5;66;03m# Lunch\u001b[39;00m\n",
      "Cell \u001b[1;32mIn[517], line 3\u001b[0m, in \u001b[0;36mpick_random_meal\u001b[1;34m(meal_db, current_meal, chosen_meals, min_amount)\u001b[0m\n\u001b[0;32m      1\u001b[0m \u001b[38;5;28;01mdef\u001b[39;00m \u001b[38;5;21mpick_random_meal\u001b[39m(meal_db, current_meal, chosen_meals\u001b[38;5;241m=\u001b[39m\u001b[38;5;28;01mNone\u001b[39;00m, min_amount\u001b[38;5;241m=\u001b[39m\u001b[38;5;241m0\u001b[39m):\n\u001b[0;32m      2\u001b[0m     \u001b[38;5;66;03m# Filter meals based on the amount criteria and exclude chosen meals\u001b[39;00m\n\u001b[1;32m----> 3\u001b[0m     eligible_meals \u001b[38;5;241m=\u001b[39m meal_db[(meal_db[\u001b[38;5;124m'\u001b[39m\u001b[38;5;124mAmount\u001b[39m\u001b[38;5;124m'\u001b[39m] \u001b[38;5;241m>\u001b[39m\u001b[38;5;241m=\u001b[39m min_amount) \u001b[38;5;241m&\u001b[39m (\u001b[38;5;241m~\u001b[39mmeal_db[\u001b[38;5;124m'\u001b[39m\u001b[38;5;124mMeal\u001b[39m\u001b[38;5;124m'\u001b[39m]\u001b[38;5;241m.\u001b[39misin(chosen_meals))]\n\u001b[0;32m      5\u001b[0m     \u001b[38;5;28;01mif\u001b[39;00m \u001b[38;5;129;01mnot\u001b[39;00m eligible_meals\u001b[38;5;241m.\u001b[39mempty:\n\u001b[0;32m      6\u001b[0m         \u001b[38;5;66;03m# Pick a random meal from eligible meals\u001b[39;00m\n\u001b[0;32m      7\u001b[0m         random_row \u001b[38;5;241m=\u001b[39m eligible_meals\u001b[38;5;241m.\u001b[39msample()\n",
      "File \u001b[1;32m~\\anaconda3\\Lib\\site-packages\\pandas\\core\\series.py:5406\u001b[0m, in \u001b[0;36mSeries.isin\u001b[1;34m(self, values)\u001b[0m\n\u001b[0;32m   5333\u001b[0m \u001b[38;5;28;01mdef\u001b[39;00m \u001b[38;5;21misin\u001b[39m(\u001b[38;5;28mself\u001b[39m, values) \u001b[38;5;241m-\u001b[39m\u001b[38;5;241m>\u001b[39m Series:\n\u001b[0;32m   5334\u001b[0m \u001b[38;5;250m    \u001b[39m\u001b[38;5;124;03m\"\"\"\u001b[39;00m\n\u001b[0;32m   5335\u001b[0m \u001b[38;5;124;03m    Whether elements in Series are contained in `values`.\u001b[39;00m\n\u001b[0;32m   5336\u001b[0m \n\u001b[1;32m   (...)\u001b[0m\n\u001b[0;32m   5404\u001b[0m \u001b[38;5;124;03m    dtype: bool\u001b[39;00m\n\u001b[0;32m   5405\u001b[0m \u001b[38;5;124;03m    \"\"\"\u001b[39;00m\n\u001b[1;32m-> 5406\u001b[0m     result \u001b[38;5;241m=\u001b[39m algorithms\u001b[38;5;241m.\u001b[39misin(\u001b[38;5;28mself\u001b[39m\u001b[38;5;241m.\u001b[39m_values, values)\n\u001b[0;32m   5407\u001b[0m     \u001b[38;5;28;01mreturn\u001b[39;00m \u001b[38;5;28mself\u001b[39m\u001b[38;5;241m.\u001b[39m_constructor(result, index\u001b[38;5;241m=\u001b[39m\u001b[38;5;28mself\u001b[39m\u001b[38;5;241m.\u001b[39mindex, copy\u001b[38;5;241m=\u001b[39m\u001b[38;5;28;01mFalse\u001b[39;00m)\u001b[38;5;241m.\u001b[39m__finalize__(\n\u001b[0;32m   5408\u001b[0m         \u001b[38;5;28mself\u001b[39m, method\u001b[38;5;241m=\u001b[39m\u001b[38;5;124m\"\u001b[39m\u001b[38;5;124misin\u001b[39m\u001b[38;5;124m\"\u001b[39m\n\u001b[0;32m   5409\u001b[0m     )\n",
      "File \u001b[1;32m~\\anaconda3\\Lib\\site-packages\\pandas\\core\\algorithms.py:463\u001b[0m, in \u001b[0;36misin\u001b[1;34m(comps, values)\u001b[0m\n\u001b[0;32m    458\u001b[0m     \u001b[38;5;28;01mraise\u001b[39;00m \u001b[38;5;167;01mTypeError\u001b[39;00m(\n\u001b[0;32m    459\u001b[0m         \u001b[38;5;124m\"\u001b[39m\u001b[38;5;124monly list-like objects are allowed to be passed \u001b[39m\u001b[38;5;124m\"\u001b[39m\n\u001b[0;32m    460\u001b[0m         \u001b[38;5;124mf\u001b[39m\u001b[38;5;124m\"\u001b[39m\u001b[38;5;124mto isin(), you passed a [\u001b[39m\u001b[38;5;132;01m{\u001b[39;00m\u001b[38;5;28mtype\u001b[39m(comps)\u001b[38;5;241m.\u001b[39m\u001b[38;5;18m__name__\u001b[39m\u001b[38;5;132;01m}\u001b[39;00m\u001b[38;5;124m]\u001b[39m\u001b[38;5;124m\"\u001b[39m\n\u001b[0;32m    461\u001b[0m     )\n\u001b[0;32m    462\u001b[0m \u001b[38;5;28;01mif\u001b[39;00m \u001b[38;5;129;01mnot\u001b[39;00m is_list_like(values):\n\u001b[1;32m--> 463\u001b[0m     \u001b[38;5;28;01mraise\u001b[39;00m \u001b[38;5;167;01mTypeError\u001b[39;00m(\n\u001b[0;32m    464\u001b[0m         \u001b[38;5;124m\"\u001b[39m\u001b[38;5;124monly list-like objects are allowed to be passed \u001b[39m\u001b[38;5;124m\"\u001b[39m\n\u001b[0;32m    465\u001b[0m         \u001b[38;5;124mf\u001b[39m\u001b[38;5;124m\"\u001b[39m\u001b[38;5;124mto isin(), you passed a [\u001b[39m\u001b[38;5;132;01m{\u001b[39;00m\u001b[38;5;28mtype\u001b[39m(values)\u001b[38;5;241m.\u001b[39m\u001b[38;5;18m__name__\u001b[39m\u001b[38;5;132;01m}\u001b[39;00m\u001b[38;5;124m]\u001b[39m\u001b[38;5;124m\"\u001b[39m\n\u001b[0;32m    466\u001b[0m     )\n\u001b[0;32m    468\u001b[0m \u001b[38;5;28;01mif\u001b[39;00m \u001b[38;5;129;01mnot\u001b[39;00m \u001b[38;5;28misinstance\u001b[39m(values, (ABCIndex, ABCSeries, ABCExtensionArray, np\u001b[38;5;241m.\u001b[39mndarray)):\n\u001b[0;32m    469\u001b[0m     orig_values \u001b[38;5;241m=\u001b[39m \u001b[38;5;28mlist\u001b[39m(values)\n",
      "\u001b[1;31mTypeError\u001b[0m: only list-like objects are allowed to be passed to isin(), you passed a [NoneType]"
     ]
    }
   ],
   "source": [
    "# Example usage:\n",
    "num_days = 7\n",
    "single_lunch_days = []\n",
    "ready_lunch_days = [3,4,5,6,7]\n",
    "\n",
    "meal_plan_result = generate_meal_plan(num_days, data_dinner, data_lunch, single_lunch_days, non_ready_lunch_days)\n",
    "print(meal_plan_result)"
   ]
  },
  {
   "cell_type": "code",
   "execution_count": null,
   "id": "fb8e2cc3",
   "metadata": {},
   "outputs": [],
   "source": []
  }
 ],
 "metadata": {
  "kernelspec": {
   "display_name": "Python 3 (ipykernel)",
   "language": "python",
   "name": "python3"
  },
  "language_info": {
   "codemirror_mode": {
    "name": "ipython",
    "version": 3
   },
   "file_extension": ".py",
   "mimetype": "text/x-python",
   "name": "python",
   "nbconvert_exporter": "python",
   "pygments_lexer": "ipython3",
   "version": "3.11.5"
  }
 },
 "nbformat": 4,
 "nbformat_minor": 5
}
