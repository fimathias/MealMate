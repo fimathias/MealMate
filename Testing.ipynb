{
 "cells": [
  {
   "cell_type": "markdown",
   "id": "59ca82b5",
   "metadata": {},
   "source": [
    "# Imports"
   ]
  },
  {
   "cell_type": "code",
   "execution_count": 29,
   "id": "cec87ecc",
   "metadata": {},
   "outputs": [],
   "source": [
    "import pandas as pd\n",
    "import numpy as np"
   ]
  },
  {
   "cell_type": "code",
   "execution_count": 13,
   "id": "e8fd0405",
   "metadata": {},
   "outputs": [],
   "source": [
    "data_DB = pd.read_csv(\"Food_DB.csv\")"
   ]
  },
  {
   "cell_type": "code",
   "execution_count": 28,
   "id": "625f6db2",
   "metadata": {},
   "outputs": [
    {
     "data": {
      "text/html": [
       "<div>\n",
       "<style scoped>\n",
       "    .dataframe tbody tr th:only-of-type {\n",
       "        vertical-align: middle;\n",
       "    }\n",
       "\n",
       "    .dataframe tbody tr th {\n",
       "        vertical-align: top;\n",
       "    }\n",
       "\n",
       "    .dataframe thead th {\n",
       "        text-align: right;\n",
       "    }\n",
       "</style>\n",
       "<table border=\"1\" class=\"dataframe\">\n",
       "  <thead>\n",
       "    <tr style=\"text-align: right;\">\n",
       "      <th></th>\n",
       "      <th>Meal</th>\n",
       "      <th>Amount</th>\n",
       "      <th>Stars</th>\n",
       "      <th>Effort</th>\n",
       "      <th>Notes</th>\n",
       "      <th>Probability</th>\n",
       "    </tr>\n",
       "  </thead>\n",
       "  <tbody>\n",
       "    <tr>\n",
       "      <th>0</th>\n",
       "      <td>Makaronilåda</td>\n",
       "      <td>6</td>\n",
       "      <td>5</td>\n",
       "      <td>5</td>\n",
       "      <td>NaN</td>\n",
       "      <td>0.80</td>\n",
       "    </tr>\n",
       "    <tr>\n",
       "      <th>1</th>\n",
       "      <td>Lasagne</td>\n",
       "      <td>5</td>\n",
       "      <td>5</td>\n",
       "      <td>5</td>\n",
       "      <td>NaN</td>\n",
       "      <td>0.80</td>\n",
       "    </tr>\n",
       "    <tr>\n",
       "      <th>2</th>\n",
       "      <td>Pizza</td>\n",
       "      <td>4</td>\n",
       "      <td>5</td>\n",
       "      <td>5</td>\n",
       "      <td>NaN</td>\n",
       "      <td>0.80</td>\n",
       "    </tr>\n",
       "    <tr>\n",
       "      <th>3</th>\n",
       "      <td>Bacon ärt pasta</td>\n",
       "      <td>4</td>\n",
       "      <td>5</td>\n",
       "      <td>4</td>\n",
       "      <td>NaN</td>\n",
       "      <td>0.85</td>\n",
       "    </tr>\n",
       "    <tr>\n",
       "      <th>4</th>\n",
       "      <td>Hotdog</td>\n",
       "      <td>2</td>\n",
       "      <td>5</td>\n",
       "      <td>1</td>\n",
       "      <td>NaN</td>\n",
       "      <td>1.00</td>\n",
       "    </tr>\n",
       "  </tbody>\n",
       "</table>\n",
       "</div>"
      ],
      "text/plain": [
       "              Meal  Amount  Stars  Effort  Notes  Probability\n",
       "0     Makaronilåda       6      5       5    NaN         0.80\n",
       "1          Lasagne       5      5       5    NaN         0.80\n",
       "2            Pizza       4      5       5    NaN         0.80\n",
       "3  Bacon ärt pasta       4      5       4    NaN         0.85\n",
       "4           Hotdog       2      5       1    NaN         1.00"
      ]
     },
     "execution_count": 28,
     "metadata": {},
     "output_type": "execute_result"
    }
   ],
   "source": [
    "data_DB.head()"
   ]
  },
  {
   "cell_type": "markdown",
   "id": "c2ed9c96",
   "metadata": {},
   "source": [
    "# Main functions"
   ]
  },
  {
   "cell_type": "code",
   "execution_count": 186,
   "id": "267842c1",
   "metadata": {},
   "outputs": [],
   "source": [
    "# SETTINGS\n",
    "days_in_plan = 7\n",
    "starting_meal = 0\n",
    "current_pos = [starting_meal, 1]\n",
    "meals_left = 0"
   ]
  },
  {
   "cell_type": "code",
   "execution_count": 187,
   "id": "24a06603",
   "metadata": {},
   "outputs": [],
   "source": [
    "# Create probability\n",
    "data_DB[\"Probability\"] = ((data_DB[\"Stars\"] / 5) * 0.75) + ((1 - 0.2 * (data_DB[\"Effort\"] - 1)) * 0.25)"
   ]
  },
  {
   "cell_type": "code",
   "execution_count": 188,
   "id": "d5900a0c",
   "metadata": {},
   "outputs": [],
   "source": [
    "# Create mealplan_DB\n",
    "mealplan_DB = pd.DataFrame()\n",
    "mealplan_DB[\"meal_of_day\"] = [\"lunch\", \"dinner\"]\n",
    "days_in_plan_range = range(0,days_in_plan)\n",
    "for i in days_in_plan_range:\n",
    "    mealplan_DB[i + 1] = 0"
   ]
  },
  {
   "cell_type": "code",
   "execution_count": 189,
   "id": "cbaaf925",
   "metadata": {},
   "outputs": [
    {
     "data": {
      "text/html": [
       "<div>\n",
       "<style scoped>\n",
       "    .dataframe tbody tr th:only-of-type {\n",
       "        vertical-align: middle;\n",
       "    }\n",
       "\n",
       "    .dataframe tbody tr th {\n",
       "        vertical-align: top;\n",
       "    }\n",
       "\n",
       "    .dataframe thead th {\n",
       "        text-align: right;\n",
       "    }\n",
       "</style>\n",
       "<table border=\"1\" class=\"dataframe\">\n",
       "  <thead>\n",
       "    <tr style=\"text-align: right;\">\n",
       "      <th></th>\n",
       "      <th>meal_of_day</th>\n",
       "      <th>1</th>\n",
       "      <th>2</th>\n",
       "      <th>3</th>\n",
       "      <th>4</th>\n",
       "      <th>5</th>\n",
       "      <th>6</th>\n",
       "      <th>7</th>\n",
       "    </tr>\n",
       "  </thead>\n",
       "  <tbody>\n",
       "    <tr>\n",
       "      <th>0</th>\n",
       "      <td>lunch</td>\n",
       "      <td>0</td>\n",
       "      <td>0</td>\n",
       "      <td>0</td>\n",
       "      <td>0</td>\n",
       "      <td>0</td>\n",
       "      <td>0</td>\n",
       "      <td>0</td>\n",
       "    </tr>\n",
       "    <tr>\n",
       "      <th>1</th>\n",
       "      <td>dinner</td>\n",
       "      <td>0</td>\n",
       "      <td>0</td>\n",
       "      <td>0</td>\n",
       "      <td>0</td>\n",
       "      <td>0</td>\n",
       "      <td>0</td>\n",
       "      <td>0</td>\n",
       "    </tr>\n",
       "  </tbody>\n",
       "</table>\n",
       "</div>"
      ],
      "text/plain": [
       "  meal_of_day  1  2  3  4  5  6  7\n",
       "0       lunch  0  0  0  0  0  0  0\n",
       "1      dinner  0  0  0  0  0  0  0"
      ]
     },
     "execution_count": 189,
     "metadata": {},
     "output_type": "execute_result"
    }
   ],
   "source": [
    "mealplan_DB.head()"
   ]
  },
  {
   "cell_type": "code",
   "execution_count": 190,
   "id": "9f3cc774",
   "metadata": {},
   "outputs": [],
   "source": [
    "def populate_meal(meal):\n",
    "    global meals_left\n",
    "    print(meals_left)\n",
    "    \n",
    "    print(current_pos)\n",
    "    if meals_left >= 2:\n",
    "        mealplan_DB[current_pos[1]][current_pos[0]] = meal\n",
    "        shift_forward()\n",
    "        print(\"More than\")\n",
    "    elif meals_left == 1:\n",
    "        mealplan_DB[current_pos[1]][current_pos[0]] = \"doubleStack\"\n",
    "        shift_forward()\n",
    "        print(\"1\")\n",
    "    else:\n",
    "        print(\"NO FOOD LEFT\")\n",
    "    \n",
    "    print(current_pos)\n",
    "    meals_left = meals_left - 2"
   ]
  },
  {
   "cell_type": "code",
   "execution_count": 191,
   "id": "2fd299ee",
   "metadata": {},
   "outputs": [],
   "source": [
    "def shift_forward():\n",
    "    # If lunch switch to dinner\n",
    "    if current_pos[0] == 0:\n",
    "        current_pos[0] = 1\n",
    "    # If dinner switch to lunch and move day forward\n",
    "    else:\n",
    "        current_pos[0] = 0\n",
    "        current_pos[1] = current_pos[1] + 1"
   ]
  },
  {
   "cell_type": "code",
   "execution_count": 193,
   "id": "fb01e440",
   "metadata": {},
   "outputs": [],
   "source": [
    "meals_left = 8"
   ]
  },
  {
   "cell_type": "code",
   "execution_count": 198,
   "id": "65c75bdc",
   "metadata": {},
   "outputs": [
    {
     "name": "stdout",
     "output_type": "stream",
     "text": [
      "0\n",
      "[0, 3]\n",
      "NO FOOD LEFT\n",
      "[0, 3]\n"
     ]
    },
    {
     "data": {
      "text/html": [
       "<div>\n",
       "<style scoped>\n",
       "    .dataframe tbody tr th:only-of-type {\n",
       "        vertical-align: middle;\n",
       "    }\n",
       "\n",
       "    .dataframe tbody tr th {\n",
       "        vertical-align: top;\n",
       "    }\n",
       "\n",
       "    .dataframe thead th {\n",
       "        text-align: right;\n",
       "    }\n",
       "</style>\n",
       "<table border=\"1\" class=\"dataframe\">\n",
       "  <thead>\n",
       "    <tr style=\"text-align: right;\">\n",
       "      <th></th>\n",
       "      <th>meal_of_day</th>\n",
       "      <th>1</th>\n",
       "      <th>2</th>\n",
       "      <th>3</th>\n",
       "      <th>4</th>\n",
       "      <th>5</th>\n",
       "      <th>6</th>\n",
       "      <th>7</th>\n",
       "    </tr>\n",
       "  </thead>\n",
       "  <tbody>\n",
       "    <tr>\n",
       "      <th>0</th>\n",
       "      <td>lunch</td>\n",
       "      <td>HD</td>\n",
       "      <td>HD</td>\n",
       "      <td>0</td>\n",
       "      <td>0</td>\n",
       "      <td>0</td>\n",
       "      <td>0</td>\n",
       "      <td>0</td>\n",
       "    </tr>\n",
       "    <tr>\n",
       "      <th>1</th>\n",
       "      <td>dinner</td>\n",
       "      <td>HD</td>\n",
       "      <td>HD</td>\n",
       "      <td>0</td>\n",
       "      <td>0</td>\n",
       "      <td>0</td>\n",
       "      <td>0</td>\n",
       "      <td>0</td>\n",
       "    </tr>\n",
       "  </tbody>\n",
       "</table>\n",
       "</div>"
      ],
      "text/plain": [
       "  meal_of_day   1   2  3  4  5  6  7\n",
       "0       lunch  HD  HD  0  0  0  0  0\n",
       "1      dinner  HD  HD  0  0  0  0  0"
      ]
     },
     "execution_count": 198,
     "metadata": {},
     "output_type": "execute_result"
    }
   ],
   "source": [
    "populate_meal(\"HD\")\n",
    "mealplan_DB.head()"
   ]
  },
  {
   "cell_type": "code",
   "execution_count": null,
   "id": "9890f62d",
   "metadata": {},
   "outputs": [],
   "source": []
  }
 ],
 "metadata": {
  "kernelspec": {
   "display_name": "Python 3 (ipykernel)",
   "language": "python",
   "name": "python3"
  },
  "language_info": {
   "codemirror_mode": {
    "name": "ipython",
    "version": 3
   },
   "file_extension": ".py",
   "mimetype": "text/x-python",
   "name": "python",
   "nbconvert_exporter": "python",
   "pygments_lexer": "ipython3",
   "version": "3.11.5"
  }
 },
 "nbformat": 4,
 "nbformat_minor": 5
}
